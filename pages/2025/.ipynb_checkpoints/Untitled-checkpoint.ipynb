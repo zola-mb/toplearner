{
 "cells": [
  {
   "cell_type": "code",
   "execution_count": 39,
   "id": "c265eaf4-49d6-4d7f-abbd-6cc014446bbf",
   "metadata": {},
   "outputs": [],
   "source": [
    "import pandas as pd\n",
    "import openpyxl as py\n",
    "import streamlit as st\n",
    "import plotly.express as px\n",
    "import plotly.graph_objects as go\n",
    "from PIL import Image"
   ]
  },
  {
   "cell_type": "code",
   "execution_count": 40,
   "id": "e8a0ceca-3541-4738-b2de-9e8be08fb185",
   "metadata": {},
   "outputs": [],
   "source": [
    "hs = pd.read_excel(\"2026 Top Learner High School- Main 20250210.xlsx\", sheet_name=\"University Applications\")"
   ]
  },
  {
   "cell_type": "code",
   "execution_count": 41,
   "id": "8857e443-a107-48c5-9214-268768674f18",
   "metadata": {},
   "outputs": [
    {
     "data": {
      "text/plain": [
       "Index(['Mkey Code', 'Name & Surname', 'Form Submitted', 'Intake', 'Schools',\n",
       "       'Mentor', 'Region', 'NMU Applied For', 'NMU Applied Res', 'Issue',\n",
       "       'Student Numnber', 'PIN', 'Course Applied For', 'Admission Status',\n",
       "       'UJ Applied For', 'UJ Applied Res', 'Issue.1', 'Student No.', 'Pin',\n",
       "       'Course Applied for', 'Admission status', 'UWC Applied For',\n",
       "       'UWC Applied Res', 'Issue.2', 'Student No..1', 'PIN.1',\n",
       "       'Admission Status.1', 'Course Applied for.1', 'CPUT Applied For',\n",
       "       'CPUT Applied Res', 'Issue.3', 'Student No..2', 'Pin.1',\n",
       "       'Course Applied For.1', 'Admission Status.2', 'WSU Applied For',\n",
       "       'WSU Applied Res', 'Issue.4', 'Student Number', 'Pin/Password',\n",
       "       'Course Applied For.2', 'Last Updated', 'Admission Status.3',\n",
       "       'WITS Applied For', 'Issue.5', 'Student Number.1', 'Pin.2',\n",
       "       'Course Applied For.3', 'Last Updated.1', 'Admission Status.4',\n",
       "       'NWU Applied For', 'Student Number.2', 'PIN.2', 'UP Applied For',\n",
       "       'Student Number.3', 'PIN.3', 'Unnamed: 56', 'Unnamed: 57',\n",
       "       'Unnamed: 58', 'Unnamed: 59', 'Unnamed: 60', 'Unnamed: 61',\n",
       "       'Unnamed: 62', 'Unnamed: 63', 'Unnamed: 64', 'Unnamed: 65',\n",
       "       'Unnamed: 66'],\n",
       "      dtype='object')"
      ]
     },
     "execution_count": 41,
     "metadata": {},
     "output_type": "execute_result"
    }
   ],
   "source": [
    "hs.columns"
   ]
  },
  {
   "cell_type": "code",
   "execution_count": 42,
   "id": "ee58663d-4795-4873-aa57-476d5961db3b",
   "metadata": {},
   "outputs": [],
   "source": [
    "hs = hs[['Name & Surname', 'Form Submitted', 'Intake', 'Schools', 'Mentor', 'Region', 'NMU Applied For', 'NMU Applied Res', 'UJ Applied For', 'UJ Applied Res', 'UWC Applied For','UWC Applied Res', 'CPUT Applied For', 'CPUT Applied Res', 'WSU Applied For',\n",
    "       'WSU Applied Res', 'WITS Applied For', 'NWU Applied For', 'UP Applied For']].reset_index(drop=True)"
   ]
  },
  {
   "cell_type": "code",
   "execution_count": 43,
   "id": "e8ff32eb-1e25-4adb-9e79-ea99e5edf957",
   "metadata": {},
   "outputs": [
    {
     "data": {
      "text/plain": [
       "Index(['Name & Surname', 'Form Submitted', 'Intake', 'Schools', 'Mentor',\n",
       "       'Region', 'NMU Applied For', 'NMU Applied Res', 'UJ Applied For',\n",
       "       'UJ Applied Res', 'UWC Applied For', 'UWC Applied Res',\n",
       "       'CPUT Applied For', 'CPUT Applied Res', 'WSU Applied For',\n",
       "       'WSU Applied Res', 'WITS Applied For', 'NWU Applied For',\n",
       "       'UP Applied For'],\n",
       "      dtype='object')"
      ]
     },
     "execution_count": 43,
     "metadata": {},
     "output_type": "execute_result"
    }
   ],
   "source": [
    "hs.columns"
   ]
  },
  {
   "cell_type": "code",
   "execution_count": 44,
   "id": "af62871b-5d6f-40ed-8509-c3ec388002bb",
   "metadata": {},
   "outputs": [],
   "source": [
    "df = pd.read_excel(\"2026 Top Learner High School- Main 20250210.xlsx\", sheet_name=\"Main Sheet\")"
   ]
  },
  {
   "cell_type": "code",
   "execution_count": 45,
   "id": "ce4b28ac-7d2d-47ed-9643-879278b1fea8",
   "metadata": {},
   "outputs": [
    {
     "data": {
      "text/plain": [
       "Index(['mkey codes', 'APS Nov', 'APS Jun', 'Name', 'Surname', 'Name & Surname',\n",
       "       'Intake', 'Email', 'Gender', 'Date Of Birth', 'ID number', 'School',\n",
       "       'Location', 'Region', 'Subjects', 'Study Packs Distributed', 'Mentor',\n",
       "       'Kutlwanong Student', 'Unnamed: 18', 'Cell no.', 'WhatsApp', 'Alt No.',\n",
       "       'Address', 'Mother Alive', 'Father Alive', 'Live with Mother',\n",
       "       'Live with Father', '# of people in the house', 'Mother working',\n",
       "       'Place of Work', 'Father working', 'Place of Work.1',\n",
       "       'Anyone else working', 'Place of Work.2', 'Mother financial support',\n",
       "       'Father financial support', 'Any financial assistance',\n",
       "       'Financial Support Type', 'House Type', 'Applied in University',\n",
       "       'What University', 'Course', '1st Choice', '2nd Choice', '3rd Choice',\n",
       "       'Received Questionnaires', 'Uni Appl Distributed', 'Form Submitted',\n",
       "       'Supporting Docs Scanned', 'Last Updated', 'Final APS',\n",
       "       'Chosen University', 'Contacted', 'Masi House Form'],\n",
       "      dtype='object')"
      ]
     },
     "execution_count": 45,
     "metadata": {},
     "output_type": "execute_result"
    }
   ],
   "source": [
    "df.columns"
   ]
  },
  {
   "cell_type": "code",
   "execution_count": null,
   "id": "61cea05c-c912-43fa-9dbe-51750b8596b7",
   "metadata": {},
   "outputs": [],
   "source": []
  }
 ],
 "metadata": {
  "kernelspec": {
   "display_name": "Python [conda env:base] *",
   "language": "python",
   "name": "conda-base-py"
  },
  "language_info": {
   "codemirror_mode": {
    "name": "ipython",
    "version": 3
   },
   "file_extension": ".py",
   "mimetype": "text/x-python",
   "name": "python",
   "nbconvert_exporter": "python",
   "pygments_lexer": "ipython3",
   "version": "3.12.7"
  }
 },
 "nbformat": 4,
 "nbformat_minor": 5
}
